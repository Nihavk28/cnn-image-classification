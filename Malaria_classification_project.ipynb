{
  "cells": [
    {
      "cell_type": "markdown",
      "metadata": {
        "id": "view-in-github",
        "colab_type": "text"
      },
      "source": [
        "<a href=\"https://colab.research.google.com/github/Nihavk28/cnn-image-classification/blob/main/Malaria_classification_project.ipynb\" target=\"_parent\"><img src=\"https://colab.research.google.com/assets/colab-badge.svg\" alt=\"Open In Colab\"/></a>"
      ]
    },
    {
      "cell_type": "markdown",
      "source": [
        "# **MALARIA CLASSIFICATION**"
      ],
      "metadata": {
        "id": "DJpdvgve096w"
      }
    },
    {
      "cell_type": "markdown",
      "source": [
        "\n",
        "\n",
        ">    Malaria is a life threatening disease spread to humans through infected female Anopheles mosquitoes. According to the World Malaria report,the death rate for the disease is increasing,early diagnosis and treatment is important to reduce the disease and thereby prevent the death.\n",
        "\n",
        "\n",
        "\n",
        "> The aim of this project is to build a CNN model to classify the images of the cells into Malaria infected cells and non-infected cells.\n",
        "\n",
        "\n",
        "\n",
        "\n",
        "\n",
        "       \n",
        "\n",
        "\n",
        "\n"
      ],
      "metadata": {
        "id": "MzkdtSss1Ouz"
      }
    },
    {
      "cell_type": "markdown",
      "source": [
        "**1.Importing Necessary Modules**"
      ],
      "metadata": {
        "id": "QfjhmiUz1SIp"
      }
    },
    {
      "cell_type": "code",
      "execution_count": null,
      "metadata": {
        "id": "UEOIAvlU8e9p"
      },
      "outputs": [],
      "source": [
        "import pandas as pd\n",
        "import numpy as np\n",
        "from skimage.io import imread\n",
        "from skimage.transform import resize\n",
        "import os\n",
        "from sklearn.model_selection import train_test_split\n",
        "from keras.models import Sequential\n",
        "from keras.layers import Dense,Conv2D,MaxPool2D,Flatten"
      ]
    },
    {
      "cell_type": "markdown",
      "source": [
        "**2.Data Loading**"
      ],
      "metadata": {
        "id": "F3FoTJDa1_fu"
      }
    },
    {
      "cell_type": "code",
      "execution_count": null,
      "metadata": {
        "id": "sUE4UlGDMh19",
        "colab": {
          "base_uri": "https://localhost:8080/"
        },
        "outputId": "8c536906-1f81-4489-aaa5-9bd2ad5f4e00"
      },
      "outputs": [
        {
          "output_type": "stream",
          "name": "stdout",
          "text": [
            "Loading: parasitized\n",
            "Loaded: parasitized\n",
            "Loading: Uninfected\n",
            "Loaded: Uninfected\n"
          ]
        }
      ],
      "source": [
        "\n",
        "X=[]\n",
        "y=[]\n",
        "datadir='/content/drive/MyDrive/malaria_dataset'\n",
        "categories=['parasitized', 'Uninfected']\n",
        "for category in categories:\n",
        "  print(\"Loading:\",category)\n",
        "  path=os.path.join(datadir,category)\n",
        "  # print(path)\n",
        "  images=os.listdir(path)\n",
        "  # print(images)\n",
        "  for img in images:\n",
        "    imgpath=os.path.join(path,img)\n",
        "    # print(imgpath)\n",
        "    img_array=imread(imgpath)\n",
        "    # print(img_array)\n",
        "    img_resized=resize(img_array,(150,150,3))\n",
        "    X.append(img_resized)\n",
        "    y.append(categories.index(category))\n",
        "  print(\"Loaded:\",category)\n"
      ]
    },
    {
      "cell_type": "code",
      "source": [
        "img_array.shape"
      ],
      "metadata": {
        "colab": {
          "base_uri": "https://localhost:8080/"
        },
        "id": "X3fal_Tx7p77",
        "outputId": "1e261fd0-4319-439f-b160-e69bbf27fc43"
      },
      "execution_count": null,
      "outputs": [
        {
          "output_type": "execute_result",
          "data": {
            "text/plain": [
              "(112, 106, 3)"
            ]
          },
          "metadata": {},
          "execution_count": 4
        }
      ]
    },
    {
      "cell_type": "code",
      "source": [
        "img_resized.shape"
      ],
      "metadata": {
        "colab": {
          "base_uri": "https://localhost:8080/"
        },
        "id": "eDWKIDYg7thp",
        "outputId": "36ddaef0-491d-457b-b126-d6e1e1fe6d97"
      },
      "execution_count": null,
      "outputs": [
        {
          "output_type": "execute_result",
          "data": {
            "text/plain": [
              "(150, 150, 3)"
            ]
          },
          "metadata": {},
          "execution_count": 5
        }
      ]
    },
    {
      "cell_type": "markdown",
      "source": [
        "**3.Convert Data Into Numpy Array**"
      ],
      "metadata": {
        "id": "6GuIQ5402OkI"
      }
    },
    {
      "cell_type": "code",
      "execution_count": null,
      "metadata": {
        "id": "1QJkyd7_Mh4w",
        "colab": {
          "base_uri": "https://localhost:8080/"
        },
        "outputId": "939be78a-7ec3-4f38-9469-6b7d11f29987"
      },
      "outputs": [
        {
          "output_type": "execute_result",
          "data": {
            "text/plain": [
              "array([[[[0., 0., 0.],\n",
              "         [0., 0., 0.],\n",
              "         [0., 0., 0.],\n",
              "         ...,\n",
              "         [0., 0., 0.],\n",
              "         [0., 0., 0.],\n",
              "         [0., 0., 0.]],\n",
              "\n",
              "        [[0., 0., 0.],\n",
              "         [0., 0., 0.],\n",
              "         [0., 0., 0.],\n",
              "         ...,\n",
              "         [0., 0., 0.],\n",
              "         [0., 0., 0.],\n",
              "         [0., 0., 0.]],\n",
              "\n",
              "        [[0., 0., 0.],\n",
              "         [0., 0., 0.],\n",
              "         [0., 0., 0.],\n",
              "         ...,\n",
              "         [0., 0., 0.],\n",
              "         [0., 0., 0.],\n",
              "         [0., 0., 0.]],\n",
              "\n",
              "        ...,\n",
              "\n",
              "        [[0., 0., 0.],\n",
              "         [0., 0., 0.],\n",
              "         [0., 0., 0.],\n",
              "         ...,\n",
              "         [0., 0., 0.],\n",
              "         [0., 0., 0.],\n",
              "         [0., 0., 0.]],\n",
              "\n",
              "        [[0., 0., 0.],\n",
              "         [0., 0., 0.],\n",
              "         [0., 0., 0.],\n",
              "         ...,\n",
              "         [0., 0., 0.],\n",
              "         [0., 0., 0.],\n",
              "         [0., 0., 0.]],\n",
              "\n",
              "        [[0., 0., 0.],\n",
              "         [0., 0., 0.],\n",
              "         [0., 0., 0.],\n",
              "         ...,\n",
              "         [0., 0., 0.],\n",
              "         [0., 0., 0.],\n",
              "         [0., 0., 0.]]],\n",
              "\n",
              "\n",
              "       [[[0., 0., 0.],\n",
              "         [0., 0., 0.],\n",
              "         [0., 0., 0.],\n",
              "         ...,\n",
              "         [0., 0., 0.],\n",
              "         [0., 0., 0.],\n",
              "         [0., 0., 0.]],\n",
              "\n",
              "        [[0., 0., 0.],\n",
              "         [0., 0., 0.],\n",
              "         [0., 0., 0.],\n",
              "         ...,\n",
              "         [0., 0., 0.],\n",
              "         [0., 0., 0.],\n",
              "         [0., 0., 0.]],\n",
              "\n",
              "        [[0., 0., 0.],\n",
              "         [0., 0., 0.],\n",
              "         [0., 0., 0.],\n",
              "         ...,\n",
              "         [0., 0., 0.],\n",
              "         [0., 0., 0.],\n",
              "         [0., 0., 0.]],\n",
              "\n",
              "        ...,\n",
              "\n",
              "        [[0., 0., 0.],\n",
              "         [0., 0., 0.],\n",
              "         [0., 0., 0.],\n",
              "         ...,\n",
              "         [0., 0., 0.],\n",
              "         [0., 0., 0.],\n",
              "         [0., 0., 0.]],\n",
              "\n",
              "        [[0., 0., 0.],\n",
              "         [0., 0., 0.],\n",
              "         [0., 0., 0.],\n",
              "         ...,\n",
              "         [0., 0., 0.],\n",
              "         [0., 0., 0.],\n",
              "         [0., 0., 0.]],\n",
              "\n",
              "        [[0., 0., 0.],\n",
              "         [0., 0., 0.],\n",
              "         [0., 0., 0.],\n",
              "         ...,\n",
              "         [0., 0., 0.],\n",
              "         [0., 0., 0.],\n",
              "         [0., 0., 0.]]],\n",
              "\n",
              "\n",
              "       [[[0., 0., 0.],\n",
              "         [0., 0., 0.],\n",
              "         [0., 0., 0.],\n",
              "         ...,\n",
              "         [0., 0., 0.],\n",
              "         [0., 0., 0.],\n",
              "         [0., 0., 0.]],\n",
              "\n",
              "        [[0., 0., 0.],\n",
              "         [0., 0., 0.],\n",
              "         [0., 0., 0.],\n",
              "         ...,\n",
              "         [0., 0., 0.],\n",
              "         [0., 0., 0.],\n",
              "         [0., 0., 0.]],\n",
              "\n",
              "        [[0., 0., 0.],\n",
              "         [0., 0., 0.],\n",
              "         [0., 0., 0.],\n",
              "         ...,\n",
              "         [0., 0., 0.],\n",
              "         [0., 0., 0.],\n",
              "         [0., 0., 0.]],\n",
              "\n",
              "        ...,\n",
              "\n",
              "        [[0., 0., 0.],\n",
              "         [0., 0., 0.],\n",
              "         [0., 0., 0.],\n",
              "         ...,\n",
              "         [0., 0., 0.],\n",
              "         [0., 0., 0.],\n",
              "         [0., 0., 0.]],\n",
              "\n",
              "        [[0., 0., 0.],\n",
              "         [0., 0., 0.],\n",
              "         [0., 0., 0.],\n",
              "         ...,\n",
              "         [0., 0., 0.],\n",
              "         [0., 0., 0.],\n",
              "         [0., 0., 0.]],\n",
              "\n",
              "        [[0., 0., 0.],\n",
              "         [0., 0., 0.],\n",
              "         [0., 0., 0.],\n",
              "         ...,\n",
              "         [0., 0., 0.],\n",
              "         [0., 0., 0.],\n",
              "         [0., 0., 0.]]],\n",
              "\n",
              "\n",
              "       ...,\n",
              "\n",
              "\n",
              "       [[[0., 0., 0.],\n",
              "         [0., 0., 0.],\n",
              "         [0., 0., 0.],\n",
              "         ...,\n",
              "         [0., 0., 0.],\n",
              "         [0., 0., 0.],\n",
              "         [0., 0., 0.]],\n",
              "\n",
              "        [[0., 0., 0.],\n",
              "         [0., 0., 0.],\n",
              "         [0., 0., 0.],\n",
              "         ...,\n",
              "         [0., 0., 0.],\n",
              "         [0., 0., 0.],\n",
              "         [0., 0., 0.]],\n",
              "\n",
              "        [[0., 0., 0.],\n",
              "         [0., 0., 0.],\n",
              "         [0., 0., 0.],\n",
              "         ...,\n",
              "         [0., 0., 0.],\n",
              "         [0., 0., 0.],\n",
              "         [0., 0., 0.]],\n",
              "\n",
              "        ...,\n",
              "\n",
              "        [[0., 0., 0.],\n",
              "         [0., 0., 0.],\n",
              "         [0., 0., 0.],\n",
              "         ...,\n",
              "         [0., 0., 0.],\n",
              "         [0., 0., 0.],\n",
              "         [0., 0., 0.]],\n",
              "\n",
              "        [[0., 0., 0.],\n",
              "         [0., 0., 0.],\n",
              "         [0., 0., 0.],\n",
              "         ...,\n",
              "         [0., 0., 0.],\n",
              "         [0., 0., 0.],\n",
              "         [0., 0., 0.]],\n",
              "\n",
              "        [[0., 0., 0.],\n",
              "         [0., 0., 0.],\n",
              "         [0., 0., 0.],\n",
              "         ...,\n",
              "         [0., 0., 0.],\n",
              "         [0., 0., 0.],\n",
              "         [0., 0., 0.]]],\n",
              "\n",
              "\n",
              "       [[[0., 0., 0.],\n",
              "         [0., 0., 0.],\n",
              "         [0., 0., 0.],\n",
              "         ...,\n",
              "         [0., 0., 0.],\n",
              "         [0., 0., 0.],\n",
              "         [0., 0., 0.]],\n",
              "\n",
              "        [[0., 0., 0.],\n",
              "         [0., 0., 0.],\n",
              "         [0., 0., 0.],\n",
              "         ...,\n",
              "         [0., 0., 0.],\n",
              "         [0., 0., 0.],\n",
              "         [0., 0., 0.]],\n",
              "\n",
              "        [[0., 0., 0.],\n",
              "         [0., 0., 0.],\n",
              "         [0., 0., 0.],\n",
              "         ...,\n",
              "         [0., 0., 0.],\n",
              "         [0., 0., 0.],\n",
              "         [0., 0., 0.]],\n",
              "\n",
              "        ...,\n",
              "\n",
              "        [[0., 0., 0.],\n",
              "         [0., 0., 0.],\n",
              "         [0., 0., 0.],\n",
              "         ...,\n",
              "         [0., 0., 0.],\n",
              "         [0., 0., 0.],\n",
              "         [0., 0., 0.]],\n",
              "\n",
              "        [[0., 0., 0.],\n",
              "         [0., 0., 0.],\n",
              "         [0., 0., 0.],\n",
              "         ...,\n",
              "         [0., 0., 0.],\n",
              "         [0., 0., 0.],\n",
              "         [0., 0., 0.]],\n",
              "\n",
              "        [[0., 0., 0.],\n",
              "         [0., 0., 0.],\n",
              "         [0., 0., 0.],\n",
              "         ...,\n",
              "         [0., 0., 0.],\n",
              "         [0., 0., 0.],\n",
              "         [0., 0., 0.]]],\n",
              "\n",
              "\n",
              "       [[[0., 0., 0.],\n",
              "         [0., 0., 0.],\n",
              "         [0., 0., 0.],\n",
              "         ...,\n",
              "         [0., 0., 0.],\n",
              "         [0., 0., 0.],\n",
              "         [0., 0., 0.]],\n",
              "\n",
              "        [[0., 0., 0.],\n",
              "         [0., 0., 0.],\n",
              "         [0., 0., 0.],\n",
              "         ...,\n",
              "         [0., 0., 0.],\n",
              "         [0., 0., 0.],\n",
              "         [0., 0., 0.]],\n",
              "\n",
              "        [[0., 0., 0.],\n",
              "         [0., 0., 0.],\n",
              "         [0., 0., 0.],\n",
              "         ...,\n",
              "         [0., 0., 0.],\n",
              "         [0., 0., 0.],\n",
              "         [0., 0., 0.]],\n",
              "\n",
              "        ...,\n",
              "\n",
              "        [[0., 0., 0.],\n",
              "         [0., 0., 0.],\n",
              "         [0., 0., 0.],\n",
              "         ...,\n",
              "         [0., 0., 0.],\n",
              "         [0., 0., 0.],\n",
              "         [0., 0., 0.]],\n",
              "\n",
              "        [[0., 0., 0.],\n",
              "         [0., 0., 0.],\n",
              "         [0., 0., 0.],\n",
              "         ...,\n",
              "         [0., 0., 0.],\n",
              "         [0., 0., 0.],\n",
              "         [0., 0., 0.]],\n",
              "\n",
              "        [[0., 0., 0.],\n",
              "         [0., 0., 0.],\n",
              "         [0., 0., 0.],\n",
              "         ...,\n",
              "         [0., 0., 0.],\n",
              "         [0., 0., 0.],\n",
              "         [0., 0., 0.]]]])"
            ]
          },
          "metadata": {},
          "execution_count": 6
        }
      ],
      "source": [
        "X=np.array(X)\n",
        "X"
      ]
    },
    {
      "cell_type": "code",
      "execution_count": null,
      "metadata": {
        "id": "sTYF3KxcMh77",
        "colab": {
          "base_uri": "https://localhost:8080/"
        },
        "outputId": "837e6b62-77ae-4176-8036-8ba0ac338f03"
      },
      "outputs": [
        {
          "output_type": "execute_result",
          "data": {
            "text/plain": [
              "array([0, 0, 0, ..., 1, 1, 1])"
            ]
          },
          "metadata": {},
          "execution_count": 7
        }
      ],
      "source": [
        "y=np.array(y)\n",
        "y"
      ]
    },
    {
      "cell_type": "markdown",
      "source": [
        "**4.Train Test Split**"
      ],
      "metadata": {
        "id": "14akFYvu211w"
      }
    },
    {
      "cell_type": "code",
      "execution_count": null,
      "metadata": {
        "id": "pqDcr9peMiCa"
      },
      "outputs": [],
      "source": [
        "X_train,X_test,y_train,y_test=train_test_split(X,y,test_size=0.3,random_state=1)"
      ]
    },
    {
      "cell_type": "code",
      "execution_count": null,
      "metadata": {
        "id": "NqzCIuyUMiFv",
        "colab": {
          "base_uri": "https://localhost:8080/"
        },
        "outputId": "8c33c2b8-0f73-4707-f488-72c77373cd27"
      },
      "outputs": [
        {
          "output_type": "execute_result",
          "data": {
            "text/plain": [
              "((3500, 150, 150, 3), (1500, 150, 150, 3))"
            ]
          },
          "metadata": {},
          "execution_count": 9
        }
      ],
      "source": [
        "X_train.shape,X_test.shape"
      ]
    },
    {
      "cell_type": "code",
      "execution_count": null,
      "metadata": {
        "id": "3MpZmE2kTkv9",
        "colab": {
          "base_uri": "https://localhost:8080/"
        },
        "outputId": "9157ac99-8b84-495e-b93f-f4e08bea137d"
      },
      "outputs": [
        {
          "output_type": "execute_result",
          "data": {
            "text/plain": [
              "((3500,), (1500,))"
            ]
          },
          "metadata": {},
          "execution_count": 10
        }
      ],
      "source": [
        "y_train.shape,y_test.shape"
      ]
    },
    {
      "cell_type": "markdown",
      "source": [
        "**5.Model creation**"
      ],
      "metadata": {
        "id": "NJ2OE_M929jL"
      }
    },
    {
      "cell_type": "code",
      "execution_count": null,
      "metadata": {
        "id": "hTqh6LRiTkyZ"
      },
      "outputs": [],
      "source": [
        "model = Sequential()\n",
        "model.add(Conv2D(32, (3, 3),input_shape=(150,150,3), activation=\"relu\"))\n",
        "model.add(MaxPool2D(2, 2))\n",
        "model.add(Conv2D(32, (3, 3), activation=\"relu\"))\n",
        "model.add(MaxPool2D(2, 2))\n",
        "model.add(Conv2D(32, (3, 3), activation=\"relu\"))\n",
        "model.add(MaxPool2D(2, 2))\n",
        "model.add(Flatten())\n",
        "model.add(Dense(40, activation=\"relu\"))\n",
        "model.add(Dense(2, activation='softmax'))"
      ]
    },
    {
      "cell_type": "markdown",
      "source": [
        "**6.Compile The Model**"
      ],
      "metadata": {
        "id": "qkFXxGLq3D64"
      }
    },
    {
      "cell_type": "code",
      "execution_count": null,
      "metadata": {
        "id": "pjnkvCHPTk1y"
      },
      "outputs": [],
      "source": [
        "model.compile(optimizer='adam',loss='sparse_categorical_crossentropy',metrics=['accuracy'])"
      ]
    },
    {
      "cell_type": "markdown",
      "source": [
        "**7.Fit And Evaluate Model**"
      ],
      "metadata": {
        "id": "1ATBybWt3Sm6"
      }
    },
    {
      "cell_type": "code",
      "execution_count": null,
      "metadata": {
        "id": "-zccKhyRTk3y",
        "colab": {
          "base_uri": "https://localhost:8080/"
        },
        "outputId": "1fee8f0d-e75f-47b9-bb15-e6b22521fc6a"
      },
      "outputs": [
        {
          "output_type": "stream",
          "name": "stdout",
          "text": [
            "Epoch 1/20\n",
            "175/175 [==============================] - 87s 489ms/step - loss: 0.6831 - accuracy: 0.5660\n",
            "Epoch 2/20\n",
            "175/175 [==============================] - 87s 495ms/step - loss: 0.6494 - accuracy: 0.6143\n",
            "Epoch 3/20\n",
            "175/175 [==============================] - 84s 478ms/step - loss: 0.6041 - accuracy: 0.6751\n",
            "Epoch 4/20\n",
            "175/175 [==============================] - 86s 491ms/step - loss: 0.5509 - accuracy: 0.7289\n",
            "Epoch 5/20\n",
            "175/175 [==============================] - 86s 494ms/step - loss: 0.4278 - accuracy: 0.8023\n",
            "Epoch 6/20\n",
            "175/175 [==============================] - 85s 486ms/step - loss: 0.1647 - accuracy: 0.9386\n",
            "Epoch 7/20\n",
            "175/175 [==============================] - 85s 487ms/step - loss: 0.1070 - accuracy: 0.9689\n",
            "Epoch 8/20\n",
            "175/175 [==============================] - 87s 495ms/step - loss: 0.0456 - accuracy: 0.9849\n",
            "Epoch 9/20\n",
            "175/175 [==============================] - 85s 486ms/step - loss: 0.0298 - accuracy: 0.9883\n",
            "Epoch 10/20\n",
            "175/175 [==============================] - 87s 495ms/step - loss: 0.0175 - accuracy: 0.9951\n",
            "Epoch 11/20\n",
            "175/175 [==============================] - 85s 485ms/step - loss: 0.0437 - accuracy: 0.9886\n",
            "Epoch 12/20\n",
            "175/175 [==============================] - 84s 483ms/step - loss: 0.0208 - accuracy: 0.9929\n",
            "Epoch 13/20\n",
            "175/175 [==============================] - 86s 493ms/step - loss: 0.0091 - accuracy: 0.9977\n",
            "Epoch 14/20\n",
            "175/175 [==============================] - 85s 484ms/step - loss: 0.0011 - accuracy: 1.0000\n",
            "Epoch 15/20\n",
            "175/175 [==============================] - 85s 486ms/step - loss: 3.0925e-04 - accuracy: 1.0000\n",
            "Epoch 16/20\n",
            "175/175 [==============================] - 85s 487ms/step - loss: 1.9834e-04 - accuracy: 1.0000\n",
            "Epoch 17/20\n",
            "175/175 [==============================] - 82s 467ms/step - loss: 1.4929e-04 - accuracy: 1.0000\n",
            "Epoch 18/20\n",
            "175/175 [==============================] - 81s 461ms/step - loss: 1.1524e-04 - accuracy: 1.0000\n",
            "Epoch 19/20\n",
            "175/175 [==============================] - 82s 468ms/step - loss: 9.3907e-05 - accuracy: 1.0000\n",
            "Epoch 20/20\n",
            "175/175 [==============================] - 82s 470ms/step - loss: 7.7800e-05 - accuracy: 1.0000\n"
          ]
        },
        {
          "output_type": "execute_result",
          "data": {
            "text/plain": [
              "<keras.src.callbacks.History at 0x78541a6deda0>"
            ]
          },
          "metadata": {},
          "execution_count": 13
        }
      ],
      "source": [
        "model.fit(X_train,y_train,epochs=20,batch_size=20)"
      ]
    },
    {
      "cell_type": "code",
      "execution_count": null,
      "metadata": {
        "id": "OVALkDgxgS0c",
        "colab": {
          "base_uri": "https://localhost:8080/"
        },
        "outputId": "0df03b9e-925b-4bbb-9012-42da7a9a528b"
      },
      "outputs": [
        {
          "output_type": "stream",
          "name": "stdout",
          "text": [
            "47/47 [==============================] - 14s 292ms/step - loss: 0.5886 - accuracy: 0.9213\n",
            "LOSS: 0.588649332523346\n",
            "ACCURACY: 0.9213333129882812\n"
          ]
        }
      ],
      "source": [
        "loss,accuracy=model.evaluate(X_test,y_test)\n",
        "print('LOSS:',loss)\n",
        "print('ACCURACY:',accuracy)"
      ]
    },
    {
      "cell_type": "markdown",
      "source": [
        "**8.Prediction**"
      ],
      "metadata": {
        "id": "ZLztSEHk3c4i"
      }
    },
    {
      "cell_type": "code",
      "source": [
        "img=imread('/content/drive/MyDrive/malaria_dataset/parasitized/C39P4thinF_original_IMG_20150622_111942_cell_10.png')\n",
        "img"
      ],
      "metadata": {
        "colab": {
          "base_uri": "https://localhost:8080/",
          "height": 167
        },
        "id": "KWpxPgto-VyK",
        "outputId": "607a0323-0840-4c02-d329-fdf8fb1511de"
      },
      "execution_count": null,
      "outputs": [
        {
          "output_type": "execute_result",
          "data": {
            "text/plain": [
              "array([[[0, 0, 0],\n",
              "        [0, 0, 0],\n",
              "        [0, 0, 0],\n",
              "        ...,\n",
              "        [0, 0, 0],\n",
              "        [0, 0, 0],\n",
              "        [0, 0, 0]],\n",
              "\n",
              "       [[0, 0, 0],\n",
              "        [0, 0, 0],\n",
              "        [0, 0, 0],\n",
              "        ...,\n",
              "        [0, 0, 0],\n",
              "        [0, 0, 0],\n",
              "        [0, 0, 0]],\n",
              "\n",
              "       [[0, 0, 0],\n",
              "        [0, 0, 0],\n",
              "        [0, 0, 0],\n",
              "        ...,\n",
              "        [0, 0, 0],\n",
              "        [0, 0, 0],\n",
              "        [0, 0, 0]],\n",
              "\n",
              "       ...,\n",
              "\n",
              "       [[0, 0, 0],\n",
              "        [0, 0, 0],\n",
              "        [0, 0, 0],\n",
              "        ...,\n",
              "        [0, 0, 0],\n",
              "        [0, 0, 0],\n",
              "        [0, 0, 0]],\n",
              "\n",
              "       [[0, 0, 0],\n",
              "        [0, 0, 0],\n",
              "        [0, 0, 0],\n",
              "        ...,\n",
              "        [0, 0, 0],\n",
              "        [0, 0, 0],\n",
              "        [0, 0, 0]],\n",
              "\n",
              "       [[0, 0, 0],\n",
              "        [0, 0, 0],\n",
              "        [0, 0, 0],\n",
              "        ...,\n",
              "        [0, 0, 0],\n",
              "        [0, 0, 0],\n",
              "        [0, 0, 0]]], dtype=uint8)"
            ],
            "text/html": [
              "<style>\n",
              "      .ndarray_repr .ndarray_raw_data {\n",
              "        display: none;\n",
              "      }\n",
              "      .ndarray_repr.show_array .ndarray_raw_data {\n",
              "        display: block;\n",
              "      }\n",
              "      .ndarray_repr.show_array .ndarray_image_preview {\n",
              "        display: none;\n",
              "      }\n",
              "      </style>\n",
              "      <div id=\"id-dbb3e07a-5ba9-405e-924e-c64469bc20f9\" class=\"ndarray_repr\"><pre>ndarray (127, 127, 3) <button style=\"padding: 0 2px;\">show data</button></pre><img src=\"data:image/png;base64,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\" class=\"ndarray_image_preview\" /><pre class=\"ndarray_raw_data\">array([[[0, 0, 0],\n",
              "        [0, 0, 0],\n",
              "        [0, 0, 0],\n",
              "        ...,\n",
              "        [0, 0, 0],\n",
              "        [0, 0, 0],\n",
              "        [0, 0, 0]],\n",
              "\n",
              "       [[0, 0, 0],\n",
              "        [0, 0, 0],\n",
              "        [0, 0, 0],\n",
              "        ...,\n",
              "        [0, 0, 0],\n",
              "        [0, 0, 0],\n",
              "        [0, 0, 0]],\n",
              "\n",
              "       [[0, 0, 0],\n",
              "        [0, 0, 0],\n",
              "        [0, 0, 0],\n",
              "        ...,\n",
              "        [0, 0, 0],\n",
              "        [0, 0, 0],\n",
              "        [0, 0, 0]],\n",
              "\n",
              "       ...,\n",
              "\n",
              "       [[0, 0, 0],\n",
              "        [0, 0, 0],\n",
              "        [0, 0, 0],\n",
              "        ...,\n",
              "        [0, 0, 0],\n",
              "        [0, 0, 0],\n",
              "        [0, 0, 0]],\n",
              "\n",
              "       [[0, 0, 0],\n",
              "        [0, 0, 0],\n",
              "        [0, 0, 0],\n",
              "        ...,\n",
              "        [0, 0, 0],\n",
              "        [0, 0, 0],\n",
              "        [0, 0, 0]],\n",
              "\n",
              "       [[0, 0, 0],\n",
              "        [0, 0, 0],\n",
              "        [0, 0, 0],\n",
              "        ...,\n",
              "        [0, 0, 0],\n",
              "        [0, 0, 0],\n",
              "        [0, 0, 0]]], dtype=uint8)</pre></div><script>\n",
              "      (() => {\n",
              "      const titles = ['show data', 'hide data'];\n",
              "      let index = 0\n",
              "      document.querySelector('#id-dbb3e07a-5ba9-405e-924e-c64469bc20f9 button').onclick = (e) => {\n",
              "        document.querySelector('#id-dbb3e07a-5ba9-405e-924e-c64469bc20f9').classList.toggle('show_array');\n",
              "        index = (++index) % 2;\n",
              "        document.querySelector('#id-dbb3e07a-5ba9-405e-924e-c64469bc20f9 button').textContent = titles[index];\n",
              "        e.preventDefault();\n",
              "        e.stopPropagation();\n",
              "      }\n",
              "      })();\n",
              "    </script>"
            ]
          },
          "metadata": {},
          "execution_count": 15
        }
      ]
    },
    {
      "cell_type": "code",
      "source": [
        "img=resize(img,(150,150,3))\n",
        "img.shape"
      ],
      "metadata": {
        "colab": {
          "base_uri": "https://localhost:8080/"
        },
        "id": "2mmPOnoW-V0Y",
        "outputId": "25589832-b1a8-4d93-c3bf-249aa03d07a6"
      },
      "execution_count": null,
      "outputs": [
        {
          "output_type": "execute_result",
          "data": {
            "text/plain": [
              "(150, 150, 3)"
            ]
          },
          "metadata": {},
          "execution_count": 16
        }
      ]
    },
    {
      "cell_type": "code",
      "source": [
        "img=img.reshape(1,150,150,3)\n",
        "img.shape"
      ],
      "metadata": {
        "colab": {
          "base_uri": "https://localhost:8080/"
        },
        "id": "YXasB9sf-V3C",
        "outputId": "6c177c73-abda-4486-aa3e-c0edd0005645"
      },
      "execution_count": null,
      "outputs": [
        {
          "output_type": "execute_result",
          "data": {
            "text/plain": [
              "(1, 150, 150, 3)"
            ]
          },
          "metadata": {},
          "execution_count": 17
        }
      ]
    },
    {
      "cell_type": "code",
      "source": [
        "prediction=model.predict(img)\n",
        "prediction\n"
      ],
      "metadata": {
        "colab": {
          "base_uri": "https://localhost:8080/"
        },
        "id": "-eP2DCMQBmvP",
        "outputId": "c1a90dff-6167-46bc-d741-947470bbe6a9"
      },
      "execution_count": null,
      "outputs": [
        {
          "output_type": "stream",
          "name": "stdout",
          "text": [
            "1/1 [==============================] - 0s 126ms/step\n"
          ]
        },
        {
          "output_type": "execute_result",
          "data": {
            "text/plain": [
              "array([[9.9994624e-01, 5.3803709e-05]], dtype=float32)"
            ]
          },
          "metadata": {},
          "execution_count": 18
        }
      ]
    },
    {
      "cell_type": "code",
      "source": [
        "ind=prediction.argmax(axis=1)\n",
        "ind"
      ],
      "metadata": {
        "colab": {
          "base_uri": "https://localhost:8080/"
        },
        "id": "dXlUegoz33_s",
        "outputId": "93499672-48ca-4836-bfbb-a4854f245f10"
      },
      "execution_count": null,
      "outputs": [
        {
          "output_type": "execute_result",
          "data": {
            "text/plain": [
              "array([0])"
            ]
          },
          "metadata": {},
          "execution_count": 19
        }
      ]
    },
    {
      "cell_type": "code",
      "source": [
        "categories[ind.item()]"
      ],
      "metadata": {
        "colab": {
          "base_uri": "https://localhost:8080/",
          "height": 35
        },
        "id": "NAz3IlGo4UjU",
        "outputId": "ce66b873-15da-4d61-ec8a-bc3320f4b914"
      },
      "execution_count": null,
      "outputs": [
        {
          "output_type": "execute_result",
          "data": {
            "text/plain": [
              "'parasitized'"
            ],
            "application/vnd.google.colaboratory.intrinsic+json": {
              "type": "string"
            }
          },
          "metadata": {},
          "execution_count": 20
        }
      ]
    },
    {
      "cell_type": "markdown",
      "source": [
        "**9.Save The Model**"
      ],
      "metadata": {
        "id": "PEeQ9ZBS3m99"
      }
    },
    {
      "cell_type": "code",
      "source": [
        "model.save('cnnmodel.h5')"
      ],
      "metadata": {
        "colab": {
          "base_uri": "https://localhost:8080/"
        },
        "id": "NB4YNiasC6uh",
        "outputId": "85a003df-c05b-4c56-b2bc-b850f755a4a4"
      },
      "execution_count": null,
      "outputs": [
        {
          "output_type": "stream",
          "name": "stderr",
          "text": [
            "/usr/local/lib/python3.10/dist-packages/keras/src/engine/training.py:3103: UserWarning: You are saving your model as an HDF5 file via `model.save()`. This file format is considered legacy. We recommend using instead the native Keras format, e.g. `model.save('my_model.keras')`.\n",
            "  saving_api.save_model(\n"
          ]
        }
      ]
    },
    {
      "cell_type": "code",
      "source": [],
      "metadata": {
        "id": "vog5aKv8C6im"
      },
      "execution_count": null,
      "outputs": []
    }
  ],
  "metadata": {
    "accelerator": "GPU",
    "colab": {
      "provenance": [],
      "gpuType": "T4",
      "mount_file_id": "1oFP-mqZCJc83MgPhgt32FSG5nDccCjG8",
      "authorship_tag": "ABX9TyMe6gbVKSU7WNzl2TUBFoXQ",
      "include_colab_link": true
    },
    "kernelspec": {
      "display_name": "Python 3",
      "name": "python3"
    },
    "language_info": {
      "name": "python"
    }
  },
  "nbformat": 4,
  "nbformat_minor": 0
}